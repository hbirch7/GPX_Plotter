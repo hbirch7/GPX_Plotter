{
 "cells": [
  {
   "cell_type": "code",
   "execution_count": 28,
   "id": "e7465a88",
   "metadata": {},
   "outputs": [],
   "source": [
    "import os\n",
    "import numpy as np\n",
    "import pandas as pd\n",
    "import gpxpy\n",
    "import gpxpy.gpx\n",
    "import matplotlib.pyplot as plt"
   ]
  },
  {
   "cell_type": "code",
   "execution_count": 29,
   "id": "3f99650e",
   "metadata": {},
   "outputs": [],
   "source": [
    "fileList=os.listdir(\"NepalData\")\n",
    "fileList.sort()\n",
    "dfDict=[]\n",
    "for fileName in fileList:\n",
    "    with open(\"NepalData/\"+fileName, 'r') as file:\n",
    "        file=gpxpy.parse(file)\n",
    "        file.tracks[0].segments[0].points\n",
    "        routeInfo=[]\n",
    "        for track in file.tracks:\n",
    "            for segment in track.segments:\n",
    "                for point in segment.points:\n",
    "                    routeInfo.append({\n",
    "                        'latitude': point.latitude,\n",
    "                        'longitude': point.longitude,\n",
    "                        'elevation': point.elevation\n",
    "                    })\n",
    "        dfDict.append(pd.DataFrame(routeInfo))"
   ]
  },
  {
   "cell_type": "code",
   "execution_count": 30,
   "id": "90fe701b",
   "metadata": {},
   "outputs": [
    {
     "data": {
      "application/vnd.microsoft.datawrangler.viewer.v0+json": {
       "columns": [
        {
         "name": "index",
         "rawType": "int64",
         "type": "integer"
        },
        {
         "name": "latitude",
         "rawType": "float64",
         "type": "float"
        },
        {
         "name": "longitude",
         "rawType": "float64",
         "type": "float"
        },
        {
         "name": "elevation",
         "rawType": "float64",
         "type": "float"
        }
       ],
       "conversionMethod": "pd.DataFrame",
       "ref": "0e702f1a-7dc0-47c1-ab1e-275f85068c5f",
       "rows": [
        [
         "0",
         "27.693031830713153",
         "86.72796584665775",
         "2873.0"
        ],
        [
         "1",
         "27.69306586124003",
         "86.72805419191718",
         "2872.0"
        ],
        [
         "2",
         "27.6930795237422",
         "86.72806584276259",
         "2871.800048828125"
        ],
        [
         "3",
         "27.69308396615088",
         "86.72807154245675",
         "2871.800048828125"
        ],
        [
         "4",
         "27.693096036091447",
         "86.72817883081734",
         "2870.800048828125"
        ],
        [
         "5",
         "27.693104250356555",
         "86.72819542698562",
         "2870.60009765625"
        ],
        [
         "6",
         "27.693099807947874",
         "86.72828243114054",
         "2870.39990234375"
        ],
        [
         "7",
         "27.69314113073051",
         "86.72826667316258",
         "2870.199951171875"
        ],
        [
         "8",
         "27.69316166639328",
         "86.72823322936893",
         "2870.199951171875"
        ],
        [
         "9",
         "27.69316166639328",
         "86.7282157111913",
         "2869.60009765625"
        ],
        [
         "10",
         "27.693191338330507",
         "86.72817958518863",
         "2869.60009765625"
        ],
        [
         "11",
         "27.69318178296089",
         "86.72810431569815",
         "2868.60009765625"
        ],
        [
         "12",
         "27.69320458173752",
         "86.72805486246943",
         "2867.39990234375"
        ],
        [
         "13",
         "27.693214137107134",
         "86.72804824076593",
         "2867.199951171875"
        ],
        [
         "14",
         "27.693210868164897",
         "86.72803105786443",
         "2866.39990234375"
        ],
        [
         "15",
         "27.693226039409637",
         "86.72801563516259",
         "2865.60009765625"
        ],
        [
         "16",
         "27.69323551096022",
         "86.72800867818296",
         "2865.199951171875"
        ],
        [
         "17",
         "27.69327700138092",
         "86.72797322273254",
         "2864.0"
        ],
        [
         "18",
         "27.693287394940853",
         "86.72796241007745",
         "2863.800048828125"
        ],
        [
         "19",
         "27.693326035514474",
         "86.727913627401",
         "2863.0"
        ],
        [
         "20",
         "27.693334333598614",
         "86.72790013253689",
         "2863.0"
        ],
        [
         "21",
         "27.693337434902787",
         "86.72788647003472",
         "2862.60009765625"
        ],
        [
         "22",
         "27.69334640353918",
         "86.72786400653422",
         "2862.39990234375"
        ],
        [
         "23",
         "27.69338982179761",
         "86.72777968458831",
         "2862.39990234375"
        ],
        [
         "24",
         "27.693401807919145",
         "86.7277059238404",
         "2862.0"
        ],
        [
         "25",
         "27.693412536755204",
         "86.72763417474926",
         "2861.39990234375"
        ],
        [
         "26",
         "27.693451596423984",
         "86.72758321277797",
         "2861.199951171875"
        ],
        [
         "27",
         "27.693461319431663",
         "86.72756502404809",
         "2861.199951171875"
        ],
        [
         "28",
         "27.693489901721478",
         "86.72751666046679",
         "2861.199951171875"
        ],
        [
         "29",
         "27.693523848429322",
         "86.72747894190252",
         "2861.0"
        ],
        [
         "30",
         "27.693544048815966",
         "86.727403588593",
         "2859.60009765625"
        ],
        [
         "31",
         "27.693547317758203",
         "86.7273967154324",
         "2859.60009765625"
        ],
        [
         "32",
         "27.693542959168553",
         "86.72732010483742",
         "2859.39990234375"
        ],
        [
         "33",
         "27.693573888391256",
         "86.72723737545311",
         "2859.199951171875"
        ],
        [
         "34",
         "27.693590903654695",
         "86.72720049507916",
         "2859.0"
        ],
        [
         "35",
         "27.69360188394785",
         "86.72716537490487",
         "2858.60009765625"
        ],
        [
         "36",
         "27.693609427660704",
         "86.72714282758534",
         "2858.39990234375"
        ],
        [
         "37",
         "27.69365318119526",
         "86.72707283869386",
         "2857.39990234375"
        ],
        [
         "38",
         "27.69366449676454",
         "86.72706169076264",
         "2857.0"
        ],
        [
         "39",
         "27.69370053894818",
         "86.72702791169286",
         "2856.199951171875"
        ],
        [
         "40",
         "27.69371629692614",
         "86.72700008377433",
         "2855.800048828125"
        ],
        [
         "41",
         "27.693781508132815",
         "86.72695381566882",
         "2855.60009765625"
        ],
        [
         "42",
         "27.69385208375752",
         "86.72694727778435",
         "2855.199951171875"
        ],
        [
         "43",
         "27.693866584450006",
         "86.72694467939436",
         "2855.199951171875"
        ],
        [
         "44",
         "27.69395610317588",
         "86.72690109349787",
         "2854.800048828125"
        ],
        [
         "45",
         "27.694008238613605",
         "86.72687066718936",
         "2854.199951171875"
        ],
        [
         "46",
         "27.694041514769197",
         "86.72684401273727",
         "2854.199951171875"
        ],
        [
         "47",
         "27.694100691005588",
         "86.72681023366749",
         "2854.199951171875"
        ],
        [
         "48",
         "27.694158861413598",
         "86.7267769575119",
         "2853.800048828125"
        ],
        [
         "49",
         "27.694172440096736",
         "86.72676622867584",
         "2853.60009765625"
        ]
       ],
       "shape": {
        "columns": 3,
        "rows": 69984
       }
      },
      "text/html": [
       "<div>\n",
       "<style scoped>\n",
       "    .dataframe tbody tr th:only-of-type {\n",
       "        vertical-align: middle;\n",
       "    }\n",
       "\n",
       "    .dataframe tbody tr th {\n",
       "        vertical-align: top;\n",
       "    }\n",
       "\n",
       "    .dataframe thead th {\n",
       "        text-align: right;\n",
       "    }\n",
       "</style>\n",
       "<table border=\"1\" class=\"dataframe\">\n",
       "  <thead>\n",
       "    <tr style=\"text-align: right;\">\n",
       "      <th></th>\n",
       "      <th>latitude</th>\n",
       "      <th>longitude</th>\n",
       "      <th>elevation</th>\n",
       "    </tr>\n",
       "  </thead>\n",
       "  <tbody>\n",
       "    <tr>\n",
       "      <th>0</th>\n",
       "      <td>27.693032</td>\n",
       "      <td>86.727966</td>\n",
       "      <td>2873.000000</td>\n",
       "    </tr>\n",
       "    <tr>\n",
       "      <th>1</th>\n",
       "      <td>27.693066</td>\n",
       "      <td>86.728054</td>\n",
       "      <td>2872.000000</td>\n",
       "    </tr>\n",
       "    <tr>\n",
       "      <th>2</th>\n",
       "      <td>27.693080</td>\n",
       "      <td>86.728066</td>\n",
       "      <td>2871.800049</td>\n",
       "    </tr>\n",
       "    <tr>\n",
       "      <th>3</th>\n",
       "      <td>27.693084</td>\n",
       "      <td>86.728072</td>\n",
       "      <td>2871.800049</td>\n",
       "    </tr>\n",
       "    <tr>\n",
       "      <th>4</th>\n",
       "      <td>27.693096</td>\n",
       "      <td>86.728179</td>\n",
       "      <td>2870.800049</td>\n",
       "    </tr>\n",
       "    <tr>\n",
       "      <th>...</th>\n",
       "      <td>...</td>\n",
       "      <td>...</td>\n",
       "      <td>...</td>\n",
       "    </tr>\n",
       "    <tr>\n",
       "      <th>3087</th>\n",
       "      <td>27.646199</td>\n",
       "      <td>86.724773</td>\n",
       "      <td>2802.600098</td>\n",
       "    </tr>\n",
       "    <tr>\n",
       "      <th>3088</th>\n",
       "      <td>27.646199</td>\n",
       "      <td>86.724773</td>\n",
       "      <td>2802.399902</td>\n",
       "    </tr>\n",
       "    <tr>\n",
       "      <th>3089</th>\n",
       "      <td>27.646192</td>\n",
       "      <td>86.724769</td>\n",
       "      <td>2802.000000</td>\n",
       "    </tr>\n",
       "    <tr>\n",
       "      <th>3090</th>\n",
       "      <td>27.646194</td>\n",
       "      <td>86.724729</td>\n",
       "      <td>2801.000000</td>\n",
       "    </tr>\n",
       "    <tr>\n",
       "      <th>3091</th>\n",
       "      <td>27.646209</td>\n",
       "      <td>86.724706</td>\n",
       "      <td>2800.000000</td>\n",
       "    </tr>\n",
       "  </tbody>\n",
       "</table>\n",
       "<p>69984 rows × 3 columns</p>\n",
       "</div>"
      ],
      "text/plain": [
       "       latitude  longitude    elevation\n",
       "0     27.693032  86.727966  2873.000000\n",
       "1     27.693066  86.728054  2872.000000\n",
       "2     27.693080  86.728066  2871.800049\n",
       "3     27.693084  86.728072  2871.800049\n",
       "4     27.693096  86.728179  2870.800049\n",
       "...         ...        ...          ...\n",
       "3087  27.646199  86.724773  2802.600098\n",
       "3088  27.646199  86.724773  2802.399902\n",
       "3089  27.646192  86.724769  2802.000000\n",
       "3090  27.646194  86.724729  2801.000000\n",
       "3091  27.646209  86.724706  2800.000000\n",
       "\n",
       "[69984 rows x 3 columns]"
      ]
     },
     "execution_count": 30,
     "metadata": {},
     "output_type": "execute_result"
    }
   ],
   "source": [
    "combinedDF=pd.concat(dfDict, axis=0)\n",
    "combinedDF"
   ]
  },
  {
   "cell_type": "code",
   "execution_count": 56,
   "id": "28dc4d94",
   "metadata": {},
   "outputs": [
    {
     "data": {
      "image/png": "[encoded data removed]",
      "text/plain": [
       "<Figure size 1000x800 with 2 Axes>"
      ]
     },
     "metadata": {},
     "output_type": "display_data"
    }
   ],
   "source": [
    "cmap = plt.colormaps[\"plasma\"]\n",
    "fig, ax = plt.subplots(figsize=(10,8))\n",
    "ax.scatter(combinedDF['longitude'], combinedDF['latitude'], c=combinedDF['elevation'],s=0.9)\n",
    "elev=combinedDF['elevation'].to_numpy()\n",
    "plt.colorbar(mappable=plt.cm.ScalarMappable(norm=plt.Normalize(vmin=elev.min(), vmax=elev.max())), ax=ax,label='Elevation (m)',ticks=np.linspace(elev.min(), elev.max(),10))\n",
    "ax.set(xlabel=\"Longitude [deg]\", ylabel=\"Latitude [deg]\",xlim=(86.6,86.85),ylim=(27.6,28))\n",
    "plt.xticks(rotation=45)\n",
    "plt.yticks(rotation=45)\n",
    "plt.grid(linestyle='--', alpha=0.5)\n",
    "plt.savefig(\"NepalRouteMap.png\",facecolor='white',dpi=300,bbox_inches='tight',)"
   ]
  },
  {
   "cell_type": "code",
   "execution_count": 57,
   "id": "e7df648c",
   "metadata": {},
   "outputs": [
    {
     "data": {
      "text/plain": [
       "(0.25, 0.3999999999999986)"
      ]
     },
     "execution_count": 57,
     "metadata": {},
     "output_type": "execute_result"
    }
   ],
   "source": [
    "86.85-86.6, 28-27.6"
   ]
  },
  {
   "cell_type": "code",
   "execution_count": 59,
   "id": "4303aa78",
   "metadata": {},
   "outputs": [
    {
     "data": {
      "text/plain": [
       "86.975"
      ]
     },
     "execution_count": 59,
     "metadata": {},
     "output_type": "execute_result"
    }
   ],
   "source": [
    "86.85+(0.25/2)\n"
   ]
  },
  {
   "cell_type": "code",
   "execution_count": 61,
   "id": "2b06033a",
   "metadata": {},
   "outputs": [
    {
     "data": {
      "text/plain": [
       "27.8"
      ]
     },
     "execution_count": 61,
     "metadata": {},
     "output_type": "execute_result"
    }
   ],
   "source": [
    "27.6+((28-27.6)/2)"
   ]
  }
 ],
 "metadata": {
  "kernelspec": {
   "display_name": "GPX_Plotter",
   "language": "python",
   "name": "python3"
  },
  "language_info": {
   "codemirror_mode": {
    "name": "ipython",
    "version": 3
   },
   "file_extension": ".py",
   "mimetype": "text/x-python",
   "name": "python",
   "nbconvert_exporter": "python",
   "pygments_lexer": "ipython3",
   "version": "3.9.21"
  }
 },
 "nbformat": 4,
 "nbformat_minor": 5
}
